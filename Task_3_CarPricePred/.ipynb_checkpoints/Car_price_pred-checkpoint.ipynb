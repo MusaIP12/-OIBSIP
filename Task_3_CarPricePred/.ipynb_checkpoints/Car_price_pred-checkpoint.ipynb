{
 "cells": [
  {
   "cell_type": "markdown",
   "id": "f60ec349",
   "metadata": {},
   "source": [
    "# CAR PRICE PREDICTION"
   ]
  },
  {
   "cell_type": "markdown",
   "id": "cc0c7e1f",
   "metadata": {},
   "source": [
    "### LOAD DATA"
   ]
  },
  {
   "cell_type": "code",
   "execution_count": 5,
   "id": "1155eae1",
   "metadata": {},
   "outputs": [],
   "source": [
    "import pandas as pd\n",
    "import numpy as np\n",
    "import seaborn as sns\n",
    "import matplotlib.pyplot as plt\n",
    "from sklearn.model_selection import train_test_split\n",
    "from sklearn.tree import DecisionTreeRegressor\n"
   ]
  },
  {
   "cell_type": "code",
   "execution_count": 6,
   "id": "43c6b2d4",
   "metadata": {},
   "outputs": [],
   "source": [
    "Data_path = \"C:\\\\Users\\patiphiri\\\\Desktop\\\\Oasis datascience\\\\Task_3_CarPricePred\\\\archive_car\\\\car data.csv\"\n",
    "df = pd.read_csv(Data_path)"
   ]
  },
  {
   "cell_type": "markdown",
   "id": "ae9a98f3",
   "metadata": {},
   "source": [
    "### DATA EXPLORATION"
   ]
  },
  {
   "cell_type": "code",
   "execution_count": 13,
   "id": "6aff6994",
   "metadata": {},
   "outputs": [
    {
     "name": "stdout",
     "output_type": "stream",
     "text": [
      "              Year  Selling_Price  Present_Price     Driven_kms       Owner\n",
      "count   301.000000     301.000000     301.000000     301.000000  301.000000\n",
      "mean   2013.627907       4.661296       7.628472   36947.205980    0.043189\n",
      "std       2.891554       5.082812       8.642584   38886.883882    0.247915\n",
      "min    2003.000000       0.100000       0.320000     500.000000    0.000000\n",
      "25%    2012.000000       0.900000       1.200000   15000.000000    0.000000\n",
      "50%    2014.000000       3.600000       6.400000   32000.000000    0.000000\n",
      "75%    2016.000000       6.000000       9.900000   48767.000000    0.000000\n",
      "max    2018.000000      35.000000      92.600000  500000.000000    3.000000\n"
     ]
    }
   ],
   "source": [
    "\n",
    "print(df.describe())"
   ]
  },
  {
   "cell_type": "code",
   "execution_count": 14,
   "id": "7d6e43fa",
   "metadata": {},
   "outputs": [
    {
     "data": {
      "text/html": [
       "<div>\n",
       "<style scoped>\n",
       "    .dataframe tbody tr th:only-of-type {\n",
       "        vertical-align: middle;\n",
       "    }\n",
       "\n",
       "    .dataframe tbody tr th {\n",
       "        vertical-align: top;\n",
       "    }\n",
       "\n",
       "    .dataframe thead th {\n",
       "        text-align: right;\n",
       "    }\n",
       "</style>\n",
       "<table border=\"1\" class=\"dataframe\">\n",
       "  <thead>\n",
       "    <tr style=\"text-align: right;\">\n",
       "      <th></th>\n",
       "      <th>Car_Name</th>\n",
       "      <th>Year</th>\n",
       "      <th>Selling_Price</th>\n",
       "      <th>Present_Price</th>\n",
       "      <th>Driven_kms</th>\n",
       "      <th>Fuel_Type</th>\n",
       "      <th>Selling_type</th>\n",
       "      <th>Transmission</th>\n",
       "      <th>Owner</th>\n",
       "    </tr>\n",
       "  </thead>\n",
       "  <tbody>\n",
       "    <tr>\n",
       "      <th>0</th>\n",
       "      <td>ritz</td>\n",
       "      <td>2014</td>\n",
       "      <td>3.35</td>\n",
       "      <td>5.59</td>\n",
       "      <td>27000</td>\n",
       "      <td>Petrol</td>\n",
       "      <td>Dealer</td>\n",
       "      <td>Manual</td>\n",
       "      <td>0</td>\n",
       "    </tr>\n",
       "    <tr>\n",
       "      <th>1</th>\n",
       "      <td>sx4</td>\n",
       "      <td>2013</td>\n",
       "      <td>4.75</td>\n",
       "      <td>9.54</td>\n",
       "      <td>43000</td>\n",
       "      <td>Diesel</td>\n",
       "      <td>Dealer</td>\n",
       "      <td>Manual</td>\n",
       "      <td>0</td>\n",
       "    </tr>\n",
       "    <tr>\n",
       "      <th>2</th>\n",
       "      <td>ciaz</td>\n",
       "      <td>2017</td>\n",
       "      <td>7.25</td>\n",
       "      <td>9.85</td>\n",
       "      <td>6900</td>\n",
       "      <td>Petrol</td>\n",
       "      <td>Dealer</td>\n",
       "      <td>Manual</td>\n",
       "      <td>0</td>\n",
       "    </tr>\n",
       "    <tr>\n",
       "      <th>3</th>\n",
       "      <td>wagon r</td>\n",
       "      <td>2011</td>\n",
       "      <td>2.85</td>\n",
       "      <td>4.15</td>\n",
       "      <td>5200</td>\n",
       "      <td>Petrol</td>\n",
       "      <td>Dealer</td>\n",
       "      <td>Manual</td>\n",
       "      <td>0</td>\n",
       "    </tr>\n",
       "    <tr>\n",
       "      <th>4</th>\n",
       "      <td>swift</td>\n",
       "      <td>2014</td>\n",
       "      <td>4.60</td>\n",
       "      <td>6.87</td>\n",
       "      <td>42450</td>\n",
       "      <td>Diesel</td>\n",
       "      <td>Dealer</td>\n",
       "      <td>Manual</td>\n",
       "      <td>0</td>\n",
       "    </tr>\n",
       "  </tbody>\n",
       "</table>\n",
       "</div>"
      ],
      "text/plain": [
       "  Car_Name  Year  Selling_Price  Present_Price  Driven_kms Fuel_Type  \\\n",
       "0     ritz  2014           3.35           5.59       27000    Petrol   \n",
       "1      sx4  2013           4.75           9.54       43000    Diesel   \n",
       "2     ciaz  2017           7.25           9.85        6900    Petrol   \n",
       "3  wagon r  2011           2.85           4.15        5200    Petrol   \n",
       "4    swift  2014           4.60           6.87       42450    Diesel   \n",
       "\n",
       "  Selling_type Transmission  Owner  \n",
       "0       Dealer       Manual      0  \n",
       "1       Dealer       Manual      0  \n",
       "2       Dealer       Manual      0  \n",
       "3       Dealer       Manual      0  \n",
       "4       Dealer       Manual      0  "
      ]
     },
     "execution_count": 14,
     "metadata": {},
     "output_type": "execute_result"
    }
   ],
   "source": [
    "df.head()"
   ]
  },
  {
   "cell_type": "code",
   "execution_count": 9,
   "id": "98ecbe71",
   "metadata": {},
   "outputs": [
    {
     "data": {
      "image/png": "[encoded data removed]",
      "text/plain": [
       "<Figure size 432x288 with 1 Axes>"
      ]
     },
     "metadata": {
      "needs_background": "light"
     },
     "output_type": "display_data"
    }
   ],
   "source": [
    "#Histogram showing the price distribution of the dataset\n",
    "plt.hist(df['Present_Price'], bins=30, edgecolor='black')\n",
    "plt.xlabel('Present_Price')\n",
    "plt.ylabel('Frequency')\n",
    "plt.show()"
   ]
  },
  {
   "cell_type": "markdown",
   "id": "886954ef",
   "metadata": {},
   "source": [
    "### PREPROCESSING"
   ]
  },
  {
   "cell_type": "code",
   "execution_count": 17,
   "id": "ce7ac997",
   "metadata": {},
   "outputs": [
    {
     "name": "stdout",
     "output_type": "stream",
     "text": [
      "['Car_Name', 'Fuel_Type', 'Selling_type', 'Transmission']\n"
     ]
    }
   ],
   "source": [
    "s = (df.dtypes == 'object')\n",
    "object_cols = list(s[s].index)\n",
    "print(object_cols)"
   ]
  },
  {
   "cell_type": "code",
   "execution_count": 18,
   "id": "752a155e",
   "metadata": {},
   "outputs": [
    {
     "data": {
      "text/plain": [
       "[('Selling_type', 2), ('Transmission', 2), ('Fuel_Type', 3), ('Car_Name', 98)]"
      ]
     },
     "execution_count": 18,
     "metadata": {},
     "output_type": "execute_result"
    }
   ],
   "source": [
    "object_nunique = list(map(lambda col: df[col].nunique(), object_cols))\n",
    "d = dict(zip(object_cols, object_nunique))\n",
    "\n",
    "# Print number of unique entries by column, in ascending order\n",
    "sorted(d.items(), key=lambda x: x[1])"
   ]
  },
  {
   "cell_type": "code",
   "execution_count": 19,
   "id": "487e7de8",
   "metadata": {},
   "outputs": [
    {
     "name": "stdout",
     "output_type": "stream",
     "text": [
      "No columns with msiing values,therefore no need for imputation\n"
     ]
    }
   ],
   "source": [
    "#Removing columns with missing data\n",
    "cols_with_missing = [col for col in df.columns\n",
    "                     if df[col].isnull().any()]\n",
    "\n",
    "if cols_with_missing:\n",
    "    print(cols_with_missing)\n",
    "else:\n",
    "    print(\"No columns with msiing values,therefore no need for imputation\")"
   ]
  },
  {
   "cell_type": "markdown",
   "id": "1f6744f4",
   "metadata": {},
   "source": [
    "### MODEL TRAINING AND EVALUATION"
   ]
  },
  {
   "cell_type": "code",
   "execution_count": 20,
   "id": "c58356eb",
   "metadata": {},
   "outputs": [],
   "source": [
    "Features = ['Car_Name','Year','Driven_kms','Fuel_Type','Selling_type','Transmission','Owner']\n",
    "X = df[Features]\n",
    "y = df.Selling_Price"
   ]
  },
  {
   "cell_type": "code",
   "execution_count": 54,
   "id": "7a8f2542",
   "metadata": {},
   "outputs": [],
   "source": [
    "# spliting data into training dtat and testing data\n",
    "X_train,X_val,y_train,y_val = train_test_split(X,y,test_size= 0.6,random_state = 42 )\n",
    "#Sec split to create test set\n",
    "X_val,X_test,y_val,y_test = train_test_split(X_val,y_val,test_size = 0.5,random_state = 42)"
   ]
  },
  {
   "cell_type": "code",
   "execution_count": 55,
   "id": "44d0f505",
   "metadata": {},
   "outputs": [
    {
     "name": "stdout",
     "output_type": "stream",
     "text": [
      "(120, 7)\n",
      "(90, 7)\n",
      "(120,)\n",
      "(90,)\n",
      "(91, 7)\n",
      "(91,)\n"
     ]
    }
   ],
   "source": [
    "print(X_train.shape)\n",
    "print(X_val.shape)\n",
    "print(y_train.shape)\n",
    "print(y_val.shape)\n",
    "print(X_test.shape)\n",
    "print(y_test.shape)"
   ]
  },
  {
   "cell_type": "markdown",
   "id": "b089c400",
   "metadata": {},
   "source": [
    "### ONE HOT ENCODING"
   ]
  },
  {
   "cell_type": "code",
   "execution_count": 56,
   "id": "31c54299",
   "metadata": {},
   "outputs": [],
   "source": [
    "# One hot \n",
    "from sklearn.preprocessing import OneHotEncoder\n",
    "myEncoder = OneHotEncoder(handle_unknown = 'ignore',sparse = False)\n",
    "\n",
    "OHE_col_train = pd.DataFrame(myEncoder.fit_transform(X_train[object_cols]))\n",
    "OHE_col_val = pd.DataFrame(myEncoder.transform(X_val[object_cols]))\n",
    "OHE_col_test = pd.DataFrame(myEncoder.transform(X_test[object_cols]))\n",
    "\n",
    "# Put back\n",
    "OHE_col_train.index = X_train.index\n",
    "OHE_col_val.index = X_val.index\n",
    "OHE_col_test.index = X_test.index\n",
    "\n",
    "\n",
    "\n",
    "#Remove categoriacl columns\n",
    "num_X_train = X_train.drop(object_cols,axis =1)\n",
    "num_X_val  = X_val.drop(object_cols, axis =1)\n",
    "num_X_test  = X_test.drop(object_cols, axis =1)\n",
    "\n",
    "#concatenate\n",
    "OHE_X_train = pd.concat([num_X_train,OHE_col_train], axis =1)\n",
    "OHE_X_val = pd.concat([num_X_val, OHE_col_val], axis=1)\n",
    "OHE_X_test = pd.concat([num_X_test,OHE_col_test], axis =1)\n",
    "\n",
    "#Make all string type\n",
    "OHE_X_train.columns = OHE_X_train.columns.astype(str)\n",
    "OHE_X_val.columns = OHE_X_val.columns.astype(str)\n",
    "OHE_X_test.columns = OHE_X_test.columns.astype(str)"
   ]
  },
  {
   "cell_type": "markdown",
   "id": "23201b4d",
   "metadata": {},
   "source": [
    "### MODEL TRAINING AND EVALUATION "
   ]
  },
  {
   "cell_type": "code",
   "execution_count": 57,
   "id": "61f25719",
   "metadata": {},
   "outputs": [],
   "source": [
    "Model = DecisionTreeRegressor(random_state =42)\n",
    "Model.fit(OHE_X_train,y_train)\n",
    "val_pred = Model.predict(OHE_X_val)\n",
    "test_pred = Model.predict(OHE_X_test)"
   ]
  },
  {
   "cell_type": "code",
   "execution_count": 58,
   "id": "600eb46c",
   "metadata": {},
   "outputs": [
    {
     "data": {
      "text/plain": [
       "(90, 66)"
      ]
     },
     "execution_count": 58,
     "metadata": {},
     "output_type": "execute_result"
    }
   ],
   "source": [
    "OHE_X_val.shape"
   ]
  },
  {
   "cell_type": "code",
   "execution_count": 59,
   "id": "4483de81",
   "metadata": {},
   "outputs": [
    {
     "name": "stdout",
     "output_type": "stream",
     "text": [
      "Val test Price predictions are:  [ 0.45  3.    2.85  2.75  3.    6.7   2.55  4.    0.45  1.75  0.45  2.5\n",
      "  3.    4.    4.9   8.4   0.2   0.12  4.5   3.25  0.6   0.4   7.75  0.45\n",
      "  0.45  0.38  0.45  2.55 18.    6.85  3.    0.2   0.38  3.    3.9   5.3\n",
      "  5.85 11.75  0.45  6.4   0.45 18.    4.1   0.5  14.9   0.51  0.45  6.4\n",
      "  0.5   5.95  5.8   6.4   2.75  0.5   6.85  3.    0.12  8.55  3.    4.8\n",
      "  3.    4.1   4.8   0.5  11.75 11.75  3.95  2.85  4.    0.12  0.45  6.7\n",
      "  9.65  3.95  0.25 11.25  4.1   2.75  0.5   3.    2.85  9.15  3.9   0.45\n",
      "  3.    5.8   5.95  7.05  4.8   4.  ]\n",
      "Test Price predictions are:  [ 0.45  3.9   1.05  0.38  0.5   3.35  0.45  7.75  0.45 11.75 11.75  5.95\n",
      "  0.5   1.    0.45  0.45  0.5   4.    4.1   5.25  4.    4.1   9.1   0.45\n",
      "  5.95  5.9   0.45  0.75  0.75  2.55  0.45  9.15  0.5   0.45  9.65  1.05\n",
      "  2.25  1.05  9.65  7.2   4.1   2.25  4.9  11.75  2.75 11.75  1.    4.8\n",
      "  0.4   2.9   9.65  7.2   2.25  4.1   7.2   0.72  2.25 11.25  5.3   7.2\n",
      "  6.7   4.4   0.51  0.5   7.05  7.75  3.    9.65  0.5   9.1   1.    1.\n",
      "  3.    4.75  7.05  0.45  0.12  6.25  2.75 11.5  18.    0.45  0.51  6.4\n",
      "  3.    4.75 11.75  0.4   1.   11.25  0.4 ]\n"
     ]
    }
   ],
   "source": [
    "print('Val test Price predictions are: ',val_pred)\n",
    "print('Test Price predictions are: ',test_pred)"
   ]
  },
  {
   "cell_type": "code",
   "execution_count": 60,
   "id": "22b19c04",
   "metadata": {},
   "outputs": [
    {
     "name": "stdout",
     "output_type": "stream",
     "text": [
      "Validation pred error is : 1.237666666666667\n",
      "Test pred error is : 1.8697802197802198\n"
     ]
    }
   ],
   "source": [
    "from sklearn.metrics import mean_absolute_error\n",
    "Eval_error = mean_absolute_error(y_val,val_pred)\n",
    "Test_evalError = mean_absolute_error(y_test,test_pred)\n",
    "print(f\"Validation pred error is : {Eval_error}\")\n",
    "print(f\"Test pred error is : {Test_evalError}\")"
   ]
  },
  {
   "cell_type": "code",
   "execution_count": null,
   "id": "8ba45ec8",
   "metadata": {},
   "outputs": [],
   "source": []
  }
 ],
 "metadata": {
  "kernelspec": {
   "display_name": "Python 3",
   "language": "python",
   "name": "python3"
  },
  "language_info": {
   "codemirror_mode": {
    "name": "ipython",
    "version": 3
   },
   "file_extension": ".py",
   "mimetype": "text/x-python",
   "name": "python",
   "nbconvert_exporter": "python",
   "pygments_lexer": "ipython3",
   "version": "3.8.8"
  }
 },
 "nbformat": 4,
 "nbformat_minor": 5
}
