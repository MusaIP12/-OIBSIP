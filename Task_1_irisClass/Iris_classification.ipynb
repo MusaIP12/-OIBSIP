{
 "cells": [
  {
   "cell_type": "code",
   "execution_count": 3,
   "id": "4a8f561f",
   "metadata": {},
   "outputs": [],
   "source": [
    "import pandas as pd\n",
    "import numpy as np\n",
    "Data_path = \"C:\\\\Users\\\\patiphiri\\\\Desktop\\\\Oasis datascience\\\\Task_1_irisClass\\\\Iris\\\\Iris.csv\""
   ]
  },
  {
   "cell_type": "code",
   "execution_count": 5,
   "id": "f2250797",
   "metadata": {},
   "outputs": [
    {
     "name": "stdout",
     "output_type": "stream",
     "text": [
      "               Id  SepalLengthCm  SepalWidthCm  PetalLengthCm  PetalWidthCm\n",
      "count  150.000000     150.000000    150.000000     150.000000    150.000000\n",
      "mean    75.500000       5.843333      3.054000       3.758667      1.198667\n",
      "std     43.445368       0.828066      0.433594       1.764420      0.763161\n",
      "min      1.000000       4.300000      2.000000       1.000000      0.100000\n",
      "25%     38.250000       5.100000      2.800000       1.600000      0.300000\n",
      "50%     75.500000       5.800000      3.000000       4.350000      1.300000\n",
      "75%    112.750000       6.400000      3.300000       5.100000      1.800000\n",
      "max    150.000000       7.900000      4.400000       6.900000      2.500000\n"
     ]
    },
    {
     "data": {
      "text/html": [
       "<div>\n",
       "<style scoped>\n",
       "    .dataframe tbody tr th:only-of-type {\n",
       "        vertical-align: middle;\n",
       "    }\n",
       "\n",
       "    .dataframe tbody tr th {\n",
       "        vertical-align: top;\n",
       "    }\n",
       "\n",
       "    .dataframe thead th {\n",
       "        text-align: right;\n",
       "    }\n",
       "</style>\n",
       "<table border=\"1\" class=\"dataframe\">\n",
       "  <thead>\n",
       "    <tr style=\"text-align: right;\">\n",
       "      <th></th>\n",
       "      <th>Id</th>\n",
       "      <th>SepalLengthCm</th>\n",
       "      <th>SepalWidthCm</th>\n",
       "      <th>PetalLengthCm</th>\n",
       "      <th>PetalWidthCm</th>\n",
       "      <th>Species</th>\n",
       "    </tr>\n",
       "  </thead>\n",
       "  <tbody>\n",
       "    <tr>\n",
       "      <th>0</th>\n",
       "      <td>1</td>\n",
       "      <td>5.1</td>\n",
       "      <td>3.5</td>\n",
       "      <td>1.4</td>\n",
       "      <td>0.2</td>\n",
       "      <td>Iris-setosa</td>\n",
       "    </tr>\n",
       "    <tr>\n",
       "      <th>1</th>\n",
       "      <td>2</td>\n",
       "      <td>4.9</td>\n",
       "      <td>3.0</td>\n",
       "      <td>1.4</td>\n",
       "      <td>0.2</td>\n",
       "      <td>Iris-setosa</td>\n",
       "    </tr>\n",
       "    <tr>\n",
       "      <th>2</th>\n",
       "      <td>3</td>\n",
       "      <td>4.7</td>\n",
       "      <td>3.2</td>\n",
       "      <td>1.3</td>\n",
       "      <td>0.2</td>\n",
       "      <td>Iris-setosa</td>\n",
       "    </tr>\n",
       "    <tr>\n",
       "      <th>3</th>\n",
       "      <td>4</td>\n",
       "      <td>4.6</td>\n",
       "      <td>3.1</td>\n",
       "      <td>1.5</td>\n",
       "      <td>0.2</td>\n",
       "      <td>Iris-setosa</td>\n",
       "    </tr>\n",
       "    <tr>\n",
       "      <th>4</th>\n",
       "      <td>5</td>\n",
       "      <td>5.0</td>\n",
       "      <td>3.6</td>\n",
       "      <td>1.4</td>\n",
       "      <td>0.2</td>\n",
       "      <td>Iris-setosa</td>\n",
       "    </tr>\n",
       "  </tbody>\n",
       "</table>\n",
       "</div>"
      ],
      "text/plain": [
       "   Id  SepalLengthCm  SepalWidthCm  PetalLengthCm  PetalWidthCm      Species\n",
       "0   1            5.1           3.5            1.4           0.2  Iris-setosa\n",
       "1   2            4.9           3.0            1.4           0.2  Iris-setosa\n",
       "2   3            4.7           3.2            1.3           0.2  Iris-setosa\n",
       "3   4            4.6           3.1            1.5           0.2  Iris-setosa\n",
       "4   5            5.0           3.6            1.4           0.2  Iris-setosa"
      ]
     },
     "execution_count": 5,
     "metadata": {},
     "output_type": "execute_result"
    }
   ],
   "source": [
    "Iris_df = pd.read_csv(Data_path)\n",
    "print(Iris_df.describe())\n",
    "Iris_df.head()\n"
   ]
  },
  {
   "cell_type": "code",
   "execution_count": 7,
   "id": "a0854bcd",
   "metadata": {},
   "outputs": [
    {
     "data": {
      "text/plain": [
       "Id                 int64\n",
       "SepalLengthCm    float64\n",
       "SepalWidthCm     float64\n",
       "PetalLengthCm    float64\n",
       "PetalWidthCm     float64\n",
       "Species           object\n",
       "dtype: object"
      ]
     },
     "execution_count": 7,
     "metadata": {},
     "output_type": "execute_result"
    }
   ],
   "source": [
    "Iris_df.dtypes"
   ]
  },
  {
   "cell_type": "code",
   "execution_count": 12,
   "id": "021de902",
   "metadata": {},
   "outputs": [
    {
     "name": "stdout",
     "output_type": "stream",
     "text": [
      "No columns with msiing values,therefore no need for imputation\n"
     ]
    }
   ],
   "source": [
    "cols_with_missing = [col for col in Iris_df.columns\n",
    "                     if Iris_df[col].isnull().any()]\n",
    "\n",
    "if cols_with_missing:\n",
    "    print(cols_with_missing)\n",
    "else:\n",
    "    print(\"No columns with msiing values,therefore no need for imputation\")"
   ]
  },
  {
   "cell_type": "code",
   "execution_count": 16,
   "id": "0a901296",
   "metadata": {},
   "outputs": [],
   "source": [
    "from sklearn.preprocessing import LabelEncoder\n",
    "my_Encoder = LabelEncoder()\n",
    "y = my_Encoder.fit_transform(Iris_df['Species'])"
   ]
  },
  {
   "cell_type": "code",
   "execution_count": 30,
   "id": "3a034c9b",
   "metadata": {},
   "outputs": [],
   "source": [
    "from sklearn.model_selection import train_test_split\n",
    "features = ['SepalLengthCm','SepalWidthCm','PetalLengthCm','PetalWidthCm']\n",
    "X = Iris_df[features]\n",
    "X_train,X_test,y_train,y_test = train_test_split(X,y,stratify= y,test_size = 0.3,random_state =42)"
   ]
  },
  {
   "cell_type": "code",
   "execution_count": 31,
   "id": "f13f43bf",
   "metadata": {},
   "outputs": [
    {
     "name": "stdout",
     "output_type": "stream",
     "text": [
      "Accuracy is:\t0.9333333333333333\n",
      "Classificatio Report:\n",
      "              precision    recall  f1-score   support\n",
      "\n",
      "           0       1.00      1.00      1.00        15\n",
      "           1       1.00      0.80      0.89        15\n",
      "           2       0.83      1.00      0.91        15\n",
      "\n",
      "    accuracy                           0.93        45\n",
      "   macro avg       0.94      0.93      0.93        45\n",
      "weighted avg       0.94      0.93      0.93        45\n",
      "\n"
     ]
    }
   ],
   "source": [
    "from sklearn.tree import DecisionTreeClassifier\n",
    "from sklearn.metrics import accuracy_score,classification_report\n",
    "DT_classifier = DecisionTreeClassifier(random_state = 42)\n",
    "DT_classifier.fit(X_train,y_train)\n",
    "predictions_DT = DT_classifier.predict(X_test)\n",
    "DT_accuracy = accuracy_score(y_test,predictions_DT)\n",
    "classification_Report = classification_report(y_test,predictions_DT)\n",
    "\n",
    "print(f'Accuracy is:\\t{DT_accuracy}')\n",
    "print(f'Classificatio Report:\\n{classification_Report}')\n"
   ]
  },
  {
   "cell_type": "code",
   "execution_count": 32,
   "id": "e6d1ea2b",
   "metadata": {},
   "outputs": [
    {
     "name": "stdout",
     "output_type": "stream",
     "text": [
      "Accuracy is:\t0.8888888888888888\n",
      "Classificatio Report:\n",
      "              precision    recall  f1-score   support\n",
      "\n",
      "           0       1.00      1.00      1.00        15\n",
      "           1       0.78      0.93      0.85        15\n",
      "           2       0.92      0.73      0.81        15\n",
      "\n",
      "    accuracy                           0.89        45\n",
      "   macro avg       0.90      0.89      0.89        45\n",
      "weighted avg       0.90      0.89      0.89        45\n",
      "\n"
     ]
    }
   ],
   "source": [
    "from sklearn.ensemble import RandomForestClassifier\n",
    "RF_classifier = RandomForestClassifier(n_estimators = 100, random_state = 42)\n",
    "RF_classifier.fit(X_train,y_train)\n",
    "predictions_RF = RF_classifier.predict(X_test)\n",
    "RF_accuracy = accuracy_score(y_test,predictions_RF)\n",
    "classification_Report = classification_report(y_test,predictions_RF)\n",
    "\n",
    "print(f'Accuracy is:\\t{RF_accuracy}')\n",
    "print(f'Classificatio Report:\\n{classification_Report}')\n"
   ]
  },
  {
   "cell_type": "code",
   "execution_count": 33,
   "id": "b1fba313",
   "metadata": {},
   "outputs": [
    {
     "name": "stdout",
     "output_type": "stream",
     "text": [
      "Accuracy is:\t0.9111111111111111\n",
      "Classificatio Report:\n",
      "                 precision    recall  f1-score   support\n",
      "\n",
      "    Iris-setosa     1.0000    1.0000    1.0000        15\n",
      "Iris-versicolor     0.7895    1.0000    0.8824        15\n",
      " Iris-virginica     1.0000    0.7333    0.8462        15\n",
      "\n",
      "       accuracy                         0.9111        45\n",
      "      macro avg     0.9298    0.9111    0.9095        45\n",
      "   weighted avg     0.9298    0.9111    0.9095        45\n",
      "\n"
     ]
    }
   ],
   "source": [
    "from sklearn.neighbors import KNeighborsClassifier\n",
    "from sklearn.metrics import confusion_matrix,ConfusionMatrixDisplay\n",
    "KNN_classifier = KNeighborsClassifier(n_neighbors = 2)\n",
    "KNN_classifier.fit(X_train,y_train)\n",
    "predictions_KNN = KNN_classifier.predict(X_test)\n",
    "KNN_accuracy = accuracy_score(y_test,predictions_KNN)\n",
    "#classification_Report = classification_report(y_test,predictions_KNN)\n",
    "\n",
    "# Inverse transform the encoded labels back to their original names\n",
    "predicted_labelsKNN = my_Encoder.inverse_transform(predictions_KNN)\n",
    "actual_labels = my_Encoder.inverse_transform(y_test)\n",
    "\n",
    "classification_Report = classification_report(actual_labels, predicted_labelsKNN, digits=4)\n",
    "\n",
    "print(f'Accuracy is:\\t{KNN_accuracy}')\n",
    "print(f'Classificatio Report:\\n{classification_Report}')"
   ]
  },
  {
   "cell_type": "code",
   "execution_count": 34,
   "id": "e7860523",
   "metadata": {},
   "outputs": [
    {
     "data": {
      "text/plain": [
       "<sklearn.metrics._plot.confusion_matrix.ConfusionMatrixDisplay at 0x7b70e98>"
      ]
     },
     "execution_count": 34,
     "metadata": {},
     "output_type": "execute_result"
    },
    {
     "data": {
      "image/png": "[encoded data removed]",
      "text/plain": [
       "<Figure size 432x288 with 2 Axes>"
      ]
     },
     "metadata": {
      "needs_background": "light"
     },
     "output_type": "display_data"
    }
   ],
   "source": [
    "# Compute and display the confusion matrix\n",
    "cm = confusion_matrix(actual_labels, predicted_labelsKNN)\n",
    "disp = ConfusionMatrixDisplay(confusion_matrix=cm, display_labels=np.unique(actual_labels))\n",
    "disp.plot(cmap='viridis')"
   ]
  },
  {
   "cell_type": "code",
   "execution_count": null,
   "id": "9f4b1326",
   "metadata": {},
   "outputs": [],
   "source": []
  }
 ],
 "metadata": {
  "kernelspec": {
   "display_name": "Python 3",
   "language": "python",
   "name": "python3"
  },
  "language_info": {
   "codemirror_mode": {
    "name": "ipython",
    "version": 3
   },
   "file_extension": ".py",
   "mimetype": "text/x-python",
   "name": "python",
   "nbconvert_exporter": "python",
   "pygments_lexer": "ipython3",
   "version": "3.8.8"
  }
 },
 "nbformat": 4,
 "nbformat_minor": 5
}
