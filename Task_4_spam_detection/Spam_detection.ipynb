{
 "cells": [
  {
   "cell_type": "markdown",
   "id": "74f98a17",
   "metadata": {},
   "source": [
    "# EMAIL SPAM DETECTION"
   ]
  },
  {
   "cell_type": "markdown",
   "id": "6c83924b",
   "metadata": {},
   "source": [
    "### LOADING DATA"
   ]
  },
  {
   "cell_type": "code",
   "execution_count": 1,
   "id": "04f34b29",
   "metadata": {},
   "outputs": [
    {
     "name": "stderr",
     "output_type": "stream",
     "text": [
      "[nltk_data] Downloading package punkt to\n",
      "[nltk_data]     C:\\Users\\phiri\\AppData\\Roaming\\nltk_data...\n",
      "[nltk_data]   Unzipping tokenizers\\punkt.zip.\n",
      "[nltk_data] Downloading package stopwords to\n",
      "[nltk_data]     C:\\Users\\phiri\\AppData\\Roaming\\nltk_data...\n",
      "[nltk_data]   Unzipping corpora\\stopwords.zip.\n"
     ]
    },
    {
     "data": {
      "text/plain": [
       "True"
      ]
     },
     "execution_count": 1,
     "metadata": {},
     "output_type": "execute_result"
    }
   ],
   "source": [
    "import pandas as pd\n",
    "import numpy as np\n",
    "from sklearn.metrics import accuracy_score,classification_report\n",
    "from nltk.tokenize import word_tokenize\n",
    "import nltk\n",
    "\n",
    "# Download the 'punkt' resource\n",
    "nltk.download('punkt')\n",
    "nltk.download('stopwords')\n"
   ]
  },
  {
   "cell_type": "markdown",
   "id": "1f572674",
   "metadata": {},
   "source": [
    "### DATA EXPLORATION"
   ]
  },
  {
   "cell_type": "code",
   "execution_count": 44,
   "id": "3575d23f",
   "metadata": {},
   "outputs": [
    {
     "data": {
      "text/html": [
       "<div>\n",
       "<style scoped>\n",
       "    .dataframe tbody tr th:only-of-type {\n",
       "        vertical-align: middle;\n",
       "    }\n",
       "\n",
       "    .dataframe tbody tr th {\n",
       "        vertical-align: top;\n",
       "    }\n",
       "\n",
       "    .dataframe thead th {\n",
       "        text-align: right;\n",
       "    }\n",
       "</style>\n",
       "<table border=\"1\" class=\"dataframe\">\n",
       "  <thead>\n",
       "    <tr style=\"text-align: right;\">\n",
       "      <th></th>\n",
       "      <th>v1</th>\n",
       "      <th>v2</th>\n",
       "      <th>Unnamed: 2</th>\n",
       "      <th>Unnamed: 3</th>\n",
       "      <th>Unnamed: 4</th>\n",
       "    </tr>\n",
       "  </thead>\n",
       "  <tbody>\n",
       "    <tr>\n",
       "      <th>0</th>\n",
       "      <td>ham</td>\n",
       "      <td>Go until jurong point, crazy.. Available only ...</td>\n",
       "      <td>NaN</td>\n",
       "      <td>NaN</td>\n",
       "      <td>NaN</td>\n",
       "    </tr>\n",
       "    <tr>\n",
       "      <th>1</th>\n",
       "      <td>ham</td>\n",
       "      <td>Ok lar... Joking wif u oni...</td>\n",
       "      <td>NaN</td>\n",
       "      <td>NaN</td>\n",
       "      <td>NaN</td>\n",
       "    </tr>\n",
       "    <tr>\n",
       "      <th>2</th>\n",
       "      <td>spam</td>\n",
       "      <td>Free entry in 2 a wkly comp to win FA Cup fina...</td>\n",
       "      <td>NaN</td>\n",
       "      <td>NaN</td>\n",
       "      <td>NaN</td>\n",
       "    </tr>\n",
       "    <tr>\n",
       "      <th>3</th>\n",
       "      <td>ham</td>\n",
       "      <td>U dun say so early hor... U c already then say...</td>\n",
       "      <td>NaN</td>\n",
       "      <td>NaN</td>\n",
       "      <td>NaN</td>\n",
       "    </tr>\n",
       "    <tr>\n",
       "      <th>4</th>\n",
       "      <td>ham</td>\n",
       "      <td>Nah I don't think he goes to usf, he lives aro...</td>\n",
       "      <td>NaN</td>\n",
       "      <td>NaN</td>\n",
       "      <td>NaN</td>\n",
       "    </tr>\n",
       "  </tbody>\n",
       "</table>\n",
       "</div>"
      ],
      "text/plain": [
       "     v1                                                 v2 Unnamed: 2  \\\n",
       "0   ham  Go until jurong point, crazy.. Available only ...        NaN   \n",
       "1   ham                      Ok lar... Joking wif u oni...        NaN   \n",
       "2  spam  Free entry in 2 a wkly comp to win FA Cup fina...        NaN   \n",
       "3   ham  U dun say so early hor... U c already then say...        NaN   \n",
       "4   ham  Nah I don't think he goes to usf, he lives aro...        NaN   \n",
       "\n",
       "  Unnamed: 3 Unnamed: 4  \n",
       "0        NaN        NaN  \n",
       "1        NaN        NaN  \n",
       "2        NaN        NaN  \n",
       "3        NaN        NaN  \n",
       "4        NaN        NaN  "
      ]
     },
     "execution_count": 44,
     "metadata": {},
     "output_type": "execute_result"
    }
   ],
   "source": [
    "Data_path = \"C:\\\\Users\\\\phiri\\\\OneDrive\\\\Desktop\\\\Desktop\\\\Oasis datascience\\\\Task_4_spam_detection\\\\EmailSpam\\\\spam.csv\"\n",
    "spam_data = pd.read_csv(Data_path,encoding='ISO-8859-1')\n",
    "spam_data.head()"
   ]
  },
  {
   "cell_type": "code",
   "execution_count": 45,
   "id": "6275154e",
   "metadata": {},
   "outputs": [
    {
     "data": {
      "text/html": [
       "<div>\n",
       "<style scoped>\n",
       "    .dataframe tbody tr th:only-of-type {\n",
       "        vertical-align: middle;\n",
       "    }\n",
       "\n",
       "    .dataframe tbody tr th {\n",
       "        vertical-align: top;\n",
       "    }\n",
       "\n",
       "    .dataframe thead th {\n",
       "        text-align: right;\n",
       "    }\n",
       "</style>\n",
       "<table border=\"1\" class=\"dataframe\">\n",
       "  <thead>\n",
       "    <tr style=\"text-align: right;\">\n",
       "      <th></th>\n",
       "      <th>v1</th>\n",
       "      <th>v2</th>\n",
       "      <th>Unnamed: 2</th>\n",
       "      <th>Unnamed: 3</th>\n",
       "      <th>Unnamed: 4</th>\n",
       "    </tr>\n",
       "  </thead>\n",
       "  <tbody>\n",
       "    <tr>\n",
       "      <th>count</th>\n",
       "      <td>5572</td>\n",
       "      <td>5572</td>\n",
       "      <td>50</td>\n",
       "      <td>12</td>\n",
       "      <td>6</td>\n",
       "    </tr>\n",
       "    <tr>\n",
       "      <th>unique</th>\n",
       "      <td>2</td>\n",
       "      <td>5169</td>\n",
       "      <td>43</td>\n",
       "      <td>10</td>\n",
       "      <td>5</td>\n",
       "    </tr>\n",
       "    <tr>\n",
       "      <th>top</th>\n",
       "      <td>ham</td>\n",
       "      <td>Sorry, I'll call later</td>\n",
       "      <td>bt not his girlfrnd... G o o d n i g h t . . .@\"</td>\n",
       "      <td>MK17 92H. 450Ppw 16\"</td>\n",
       "      <td>GNT:-)\"</td>\n",
       "    </tr>\n",
       "    <tr>\n",
       "      <th>freq</th>\n",
       "      <td>4825</td>\n",
       "      <td>30</td>\n",
       "      <td>3</td>\n",
       "      <td>2</td>\n",
       "      <td>2</td>\n",
       "    </tr>\n",
       "  </tbody>\n",
       "</table>\n",
       "</div>"
      ],
      "text/plain": [
       "          v1                      v2  \\\n",
       "count   5572                    5572   \n",
       "unique     2                    5169   \n",
       "top      ham  Sorry, I'll call later   \n",
       "freq    4825                      30   \n",
       "\n",
       "                                               Unnamed: 2  \\\n",
       "count                                                  50   \n",
       "unique                                                 43   \n",
       "top      bt not his girlfrnd... G o o d n i g h t . . .@\"   \n",
       "freq                                                    3   \n",
       "\n",
       "                   Unnamed: 3 Unnamed: 4  \n",
       "count                      12          6  \n",
       "unique                     10          5  \n",
       "top      MK17 92H. 450Ppw 16\"    GNT:-)\"  \n",
       "freq                        2          2  "
      ]
     },
     "execution_count": 45,
     "metadata": {},
     "output_type": "execute_result"
    }
   ],
   "source": [
    "spam_data.describe()"
   ]
  },
  {
   "cell_type": "code",
   "execution_count": 46,
   "id": "56b2bffb",
   "metadata": {},
   "outputs": [
    {
     "data": {
      "text/plain": [
       "v1            object\n",
       "v2            object\n",
       "Unnamed: 2    object\n",
       "Unnamed: 3    object\n",
       "Unnamed: 4    object\n",
       "dtype: object"
      ]
     },
     "execution_count": 46,
     "metadata": {},
     "output_type": "execute_result"
    }
   ],
   "source": [
    "spam_data.dtypes"
   ]
  },
  {
   "cell_type": "code",
   "execution_count": 47,
   "id": "4db1ddec",
   "metadata": {},
   "outputs": [
    {
     "data": {
      "image/png": "[encoded data removed]",
      "text/plain": [
       "<Figure size 640x480 with 1 Axes>"
      ]
     },
     "metadata": {},
     "output_type": "display_data"
    }
   ],
   "source": [
    "#Checking the class distribution of the data\n",
    "import seaborn as sns\n",
    "import matplotlib.pyplot as plt\n",
    "sns.countplot(x='v1', data=spam_data)\n",
    "plt.show()\n"
   ]
  },
  {
   "cell_type": "markdown",
   "id": "12d01d4a",
   "metadata": {},
   "source": [
    "### PREPROCESSING"
   ]
  },
  {
   "cell_type": "code",
   "execution_count": 48,
   "id": "b55081c9",
   "metadata": {},
   "outputs": [
    {
     "name": "stdout",
     "output_type": "stream",
     "text": [
      "['Unnamed: 2', 'Unnamed: 3', 'Unnamed: 4']\n"
     ]
    }
   ],
   "source": [
    "#Removing columns with missing data\n",
    "cols_with_missing = [col for col in spam_data.columns\n",
    "                     if spam_data[col].isnull().any()]\n",
    "\n",
    "if cols_with_missing:\n",
    "    print(cols_with_missing)\n",
    "else:\n",
    "    print(\"No columns with msiing values,therefore no need for imputation\")"
   ]
  },
  {
   "cell_type": "code",
   "execution_count": 49,
   "id": "ef0e1d29",
   "metadata": {
    "scrolled": true
   },
   "outputs": [
    {
     "name": "stdout",
     "output_type": "stream",
     "text": [
      "     v1                                                 v2\n",
      "0   ham  Go until jurong point, crazy.. Available only ...\n",
      "1   ham                      Ok lar... Joking wif u oni...\n",
      "2  spam  Free entry in 2 a wkly comp to win FA Cup fina...\n",
      "3   ham  U dun say so early hor... U c already then say...\n",
      "4   ham  Nah I don't think he goes to usf, he lives aro...\n",
      "5  spam  FreeMsg Hey there darling it's been 3 week's n...\n",
      "6   ham  Even my brother is not like to speak with me. ...\n",
      "7   ham  As per your request 'Melle Melle (Oru Minnamin...\n",
      "8  spam  WINNER!! As a valued network customer you have...\n",
      "9  spam  Had your mobile 11 months or more? U R entitle...\n"
     ]
    }
   ],
   "source": [
    "new_spam_df = spam_data.drop(cols_with_missing, axis =1)\n",
    "print(new_spam_df.head(10))"
   ]
  },
  {
   "cell_type": "code",
   "execution_count": 50,
   "id": "70a95f8d",
   "metadata": {},
   "outputs": [],
   "source": [
    "# Converting  text to lowercase to ensure the text is uniform throughout\n",
    "new_spam_df['v2'] = new_spam_df['v2'].str.lower()\n",
    "\n",
    "# tokenization (will be breaking down text into individual words)\n",
    "\n",
    "from nltk.tokenize import word_tokenize\n",
    "\n",
    "# Tokenize the text\n",
    "new_spam_df['v2'] = new_spam_df['v2'].apply(word_tokenize)\n"
   ]
  },
  {
   "cell_type": "code",
   "execution_count": 51,
   "id": "f13aeb90",
   "metadata": {},
   "outputs": [],
   "source": [
    "import string\n",
    "\n",
    "# Remove punctuation(So that it wont confuse the models when train on the data)\n",
    "new_spam_df['v2'] = new_spam_df['v2'].apply(lambda tokens: [token for token in tokens if token not in string.punctuation])\n"
   ]
  },
  {
   "cell_type": "code",
   "execution_count": 52,
   "id": "f26c7983",
   "metadata": {},
   "outputs": [],
   "source": [
    "from nltk.corpus import stopwords\n",
    "\n",
    "# Removing all stop words(to reduce dimensionality and allow model to focus on important words)\n",
    "stop_words = set(stopwords.words('english'))\n",
    "new_spam_df['v2'] = new_spam_df['v2'].apply(lambda tokens: [token for token in tokens if token not in stop_words])\n"
   ]
  },
  {
   "cell_type": "code",
   "execution_count": 53,
   "id": "c8e87a2f",
   "metadata": {},
   "outputs": [],
   "source": [
    "# Breaking down text into individual items or tokens\n",
    "from sklearn.feature_extraction.text import CountVectorizer\n",
    "\n",
    "new_spam_df['v2'] = new_spam_df['v2'].apply(lambda tokens: ' '.join(tokens))\n",
    "\n",
    "# Instantiate the vectorizer\n",
    "vectorizer = CountVectorizer()\n",
    "\n",
    "# Fit and transform the text data\n",
    "X = vectorizer.fit_transform(new_spam_df['v2'])\n"
   ]
  },
  {
   "cell_type": "markdown",
   "id": "fad8aa74",
   "metadata": {},
   "source": [
    "###### LOADING FEATURES"
   ]
  },
  {
   "cell_type": "code",
   "execution_count": 54,
   "id": "805e1f3e",
   "metadata": {},
   "outputs": [],
   "source": [
    "from sklearn.feature_extraction.text import TfidfVectorizer\n",
    "\n",
    "# Instantiate the vectorizer\n",
    "vectorizer = TfidfVectorizer()\n",
    "\n",
    "# Fit and transform the text data\n",
    "X = vectorizer.fit_transform(new_spam_df['v2'])\n"
   ]
  },
  {
   "cell_type": "code",
   "execution_count": 55,
   "id": "ceaf08ee",
   "metadata": {},
   "outputs": [],
   "source": [
    "#Encoding the target variable classes\n",
    "from sklearn.preprocessing import LabelEncoder\n",
    "\n",
    "# Instantiate the label encoder\n",
    "label_encoder = LabelEncoder()\n",
    "\n",
    "# Encode the target variable\n",
    "y = label_encoder.fit_transform(new_spam_df['v1'])\n"
   ]
  },
  {
   "cell_type": "code",
   "execution_count": 56,
   "id": "04a33355",
   "metadata": {},
   "outputs": [
    {
     "name": "stdout",
     "output_type": "stream",
     "text": [
      "[0 0 1 ... 0 0 0]\n"
     ]
    }
   ],
   "source": [
    "print(y)"
   ]
  },
  {
   "cell_type": "markdown",
   "id": "d11db029",
   "metadata": {},
   "source": [
    "### MODEL TRAINING AND EVALUATION"
   ]
  },
  {
   "cell_type": "code",
   "execution_count": 57,
   "id": "266b584e",
   "metadata": {},
   "outputs": [],
   "source": [
    "#Checking for consistency in the distribution\n",
    "from sklearn.model_selection import train_test_split\n",
    "\n",
    "# Split the dataset\n",
    "X_train, X_val, y_train, y_val = train_test_split(X, y,stratify = y, test_size=0.3, random_state=42)\n",
    "X_val, X_test, y_val, y_test = train_test_split(X_val, y_val,stratify = y_val, test_size=0.5, random_state=42)\n"
   ]
  },
  {
   "cell_type": "code",
   "execution_count": 58,
   "id": "1c0998fb",
   "metadata": {},
   "outputs": [
    {
     "name": "stdout",
     "output_type": "stream",
     "text": [
      "(3900, 8606)\n",
      "(3900,)\n",
      "(836, 8606)\n",
      "(836,)\n",
      "(836, 8606)\n",
      "(836,)\n"
     ]
    }
   ],
   "source": [
    "print(X_train.shape)\n",
    "print(y_train.shape)\n",
    "print(X_val.shape)\n",
    "print(y_val.shape)\n",
    "print(X_test.shape)\n",
    "\n",
    "print(y_test.shape)"
   ]
  },
  {
   "cell_type": "markdown",
   "id": "d037d601",
   "metadata": {},
   "source": [
    "#### DECISION TREE CLASSIFIER"
   ]
  },
  {
   "cell_type": "code",
   "execution_count": 59,
   "id": "1b2418e7",
   "metadata": {},
   "outputs": [
    {
     "name": "stdout",
     "output_type": "stream",
     "text": [
      "Validation Accuracy is:\t0.9712918660287081\n",
      "Validation Classification Report:\n",
      "              precision    recall  f1-score   support\n",
      "\n",
      "         ham     0.9795    0.9876    0.9835       724\n",
      "        spam     0.9151    0.8661    0.8899       112\n",
      "\n",
      "    accuracy                         0.9713       836\n",
      "   macro avg     0.9473    0.9268    0.9367       836\n",
      "weighted avg     0.9708    0.9713    0.9710       836\n",
      "\n",
      "Test Accuracy is:\t0.9677033492822966\n",
      "Test set Classification Report:\n",
      "              precision    recall  f1-score   support\n",
      "\n",
      "         ham     0.9767    0.9862    0.9814       724\n",
      "        spam     0.9048    0.8482    0.8756       112\n",
      "\n",
      "    accuracy                         0.9677       836\n",
      "   macro avg     0.9408    0.9172    0.9285       836\n",
      "weighted avg     0.9671    0.9677    0.9673       836\n",
      "\n"
     ]
    }
   ],
   "source": [
    "from sklearn.tree import DecisionTreeClassifier\n",
    "from sklearn.metrics import accuracy_score,classification_report,confusion_matrix,ConfusionMatrixDisplay\n",
    "DT_classifier = DecisionTreeClassifier(random_state = 42)\n",
    "DT_classifier.fit(X_train,y_train)\n",
    "\n",
    "#Predictions on validation set\n",
    "predictions_val = DT_classifier.predict(X_val)\n",
    "DT_accuracy_val = accuracy_score(y_val,predictions_val)\n",
    "\n",
    "# Inverse transforming the encoded labels back to their original names(validation set)\n",
    "predicted_labels_val = label_encoder.inverse_transform(predictions_val)\n",
    "actual_labels_val = label_encoder.inverse_transform(y_val)\n",
    "\n",
    "#Predictions on test set\n",
    "predictions_test = DT_classifier.predict(X_test)\n",
    "DT_accuracy_test = accuracy_score(y_test,predictions_test)\n",
    "\n",
    "# Inverse transforming the encoded labels back to their original names(test set)\n",
    "predicted_labels_test = label_encoder.inverse_transform(predictions_test)\n",
    "actual_labels_test = label_encoder.inverse_transform(y_test)\n",
    "\n",
    "#Classification report of validation predictions and test predictions\n",
    "#validation\n",
    "classification_Report_val = classification_report(actual_labels_val, predicted_labels_val, digits=4)\n",
    "\n",
    "print(f'Validation Accuracy is:\\t{DT_accuracy_val}')\n",
    "print(f'Validation Classification Report:\\n{classification_Report_val}')\n",
    "\n",
    "#Test\n",
    "classification_Report_test = classification_report(actual_labels_test, predicted_labels_test, digits=4)\n",
    "\n",
    "print(f'Test Accuracy is:\\t{DT_accuracy_test}')\n",
    "print(f'Test set Classification Report:\\n{classification_Report_test}')\n"
   ]
  },
  {
   "cell_type": "code",
   "execution_count": 60,
   "id": "e69fcc64",
   "metadata": {},
   "outputs": [
    {
     "name": "stdout",
     "output_type": "stream",
     "text": [
      "Confusion Matrix for Validation Predictions and test predictions: \n"
     ]
    },
    {
     "data": {
      "text/plain": [
       "<sklearn.metrics._plot.confusion_matrix.ConfusionMatrixDisplay at 0x263921dfc90>"
      ]
     },
     "execution_count": 60,
     "metadata": {},
     "output_type": "execute_result"
    },
    {
     "data": {
      "image/png": "[encoded data removed]",
      "text/plain": [
       "<Figure size 640x480 with 2 Axes>"
      ]
     },
     "metadata": {},
     "output_type": "display_data"
    },
    {
     "data": {
      "image/png": "[encoded data removed]",
      "text/plain": [
       "<Figure size 640x480 with 2 Axes>"
      ]
     },
     "metadata": {},
     "output_type": "display_data"
    }
   ],
   "source": [
    "# Compute and display the confusion matrix for validation and test predictions\n",
    "print(\"Confusion Matrix for Validation Predictions and test predictions: \")\n",
    "#Validation Predictions\n",
    "cm = confusion_matrix(actual_labels_val, predicted_labels_val)\n",
    "disp = ConfusionMatrixDisplay(confusion_matrix=cm, display_labels=np.unique(actual_labels_val))\n",
    "\n",
    "disp.plot(cmap='viridis')\n",
    "\n",
    "#Test predictions\n",
    "cm = confusion_matrix(actual_labels_test, predicted_labels_test)\n",
    "disp = ConfusionMatrixDisplay(confusion_matrix=cm, display_labels=np.unique(actual_labels_test))\n",
    "disp.plot(cmap='viridis')"
   ]
  },
  {
   "cell_type": "markdown",
   "id": "3323b21e",
   "metadata": {},
   "source": [
    "### NAIVE BAYES CLASSIFIER"
   ]
  },
  {
   "cell_type": "code",
   "execution_count": 61,
   "id": "3cc20231",
   "metadata": {},
   "outputs": [
    {
     "name": "stdout",
     "output_type": "stream",
     "text": [
      "Validation Accuracy is:\t0.9617\n",
      "Validation Classification Report:\n",
      "              precision    recall  f1-score   support\n",
      "\n",
      "         ham     0.9577    1.0000    0.9784       724\n",
      "        spam     1.0000    0.7143    0.8333       112\n",
      "\n",
      "    accuracy                         0.9617       836\n",
      "   macro avg     0.9788    0.8571    0.9059       836\n",
      "weighted avg     0.9633    0.9617    0.9589       836\n",
      "\n",
      "Test Accuracy is:\t0.9689\n",
      "Test set Classification Report:\n",
      "              precision    recall  f1-score   support\n",
      "\n",
      "         ham     0.9653    1.0000    0.9824       724\n",
      "        spam     1.0000    0.7679    0.8687       112\n",
      "\n",
      "    accuracy                         0.9689       836\n",
      "   macro avg     0.9827    0.8839    0.9255       836\n",
      "weighted avg     0.9700    0.9689    0.9671       836\n",
      "\n"
     ]
    }
   ],
   "source": [
    "from sklearn.naive_bayes import MultinomialNB\n",
    "\n",
    "# Instantiate the Naive Bayes classifier\n",
    "NVB_classifier = MultinomialNB()\n",
    "\n",
    "# Train the model\n",
    "NVB_classifier.fit(X_train, y_train)\n",
    "\n",
    "#Predictions on validation set\n",
    "NVB_predictions_val = NVB_classifier.predict(X_val)\n",
    "NVB_accuracy_val = accuracy_score(y_val,NVB_predictions_val)\n",
    "\n",
    "# Inverse transforming the encoded labels back to their original names(validation set)\n",
    "NVB_predicted_labels_val = label_encoder.inverse_transform(NVB_predictions_val)\n",
    "NVB_actual_labels_val = label_encoder.inverse_transform(y_val)\n",
    "\n",
    "#Predictions on test set\n",
    "NVB_predictions_test = NVB_classifier.predict(X_test)\n",
    "NVB_accuracy_test = accuracy_score(y_test,NVB_predictions_test)\n",
    "\n",
    "# Inverse transforming the encoded labels back to their original names(test set)\n",
    "NVB_predicted_labels_test = label_encoder.inverse_transform(NVB_predictions_test)\n",
    "NVB_actual_labels_test = label_encoder.inverse_transform(y_test)\n",
    "\n",
    "#Classification report of validation predictions and test predictions\n",
    "#validation\n",
    "NVBclassification_Report_val = classification_report(NVB_actual_labels_val, NVB_predicted_labels_val, digits=4)\n",
    "\n",
    "print(f'Validation Accuracy is:\\t{NVB_accuracy_val:.4f}')\n",
    "print(f'Validation Classification Report:\\n{NVBclassification_Report_val}')\n",
    "\n",
    "#Test\n",
    "NVBclassification_Report_test = classification_report(NVB_actual_labels_test, NVB_predicted_labels_test, digits=4)\n",
    "\n",
    "print(f'Test Accuracy is:\\t{NVB_accuracy_test:.4f}')\n",
    "print(f'Test set Classification Report:\\n{NVBclassification_Report_test}')\n"
   ]
  },
  {
   "cell_type": "code",
   "execution_count": 62,
   "id": "a421397b",
   "metadata": {},
   "outputs": [
    {
     "name": "stdout",
     "output_type": "stream",
     "text": [
      "Confusion Matrix for Validation Predictions and test predictions: \n"
     ]
    },
    {
     "data": {
      "text/plain": [
       "<sklearn.metrics._plot.confusion_matrix.ConfusionMatrixDisplay at 0x2639003ea50>"
      ]
     },
     "execution_count": 62,
     "metadata": {},
     "output_type": "execute_result"
    },
    {
     "data": {
      "image/png": "[encoded data removed]",
      "text/plain": [
       "<Figure size 640x480 with 2 Axes>"
      ]
     },
     "metadata": {},
     "output_type": "display_data"
    },
    {
     "data": {
      "image/png": "[encoded data removed]",
      "text/plain": [
       "<Figure size 640x480 with 2 Axes>"
      ]
     },
     "metadata": {},
     "output_type": "display_data"
    }
   ],
   "source": [
    "# Compute and display the confusion matrix for validation and test predictions\n",
    "print(\"Confusion Matrix for Validation Predictions and test predictions: \")\n",
    "#Validation Predictions\n",
    "cm = confusion_matrix(NVB_actual_labels_val, NVB_predicted_labels_val)\n",
    "disp = ConfusionMatrixDisplay(confusion_matrix=cm, display_labels=np.unique(NVB_actual_labels_val))\n",
    "\n",
    "disp.plot(cmap='viridis')\n",
    "\n",
    "#Test predictions\n",
    "cm = confusion_matrix(NVB_actual_labels_test, NVB_predicted_labels_test)\n",
    "disp = ConfusionMatrixDisplay(confusion_matrix=cm, display_labels=np.unique(NVB_actual_labels_test))\n",
    "disp.plot(cmap='viridis')"
   ]
  }
 ],
 "metadata": {
  "kernelspec": {
   "display_name": "Python 3 (ipykernel)",
   "language": "python",
   "name": "python3"
  },
  "language_info": {
   "codemirror_mode": {
    "name": "ipython",
    "version": 3
   },
   "file_extension": ".py",
   "mimetype": "text/x-python",
   "name": "python",
   "nbconvert_exporter": "python",
   "pygments_lexer": "ipython3",
   "version": "3.11.5"
  }
 },
 "nbformat": 4,
 "nbformat_minor": 5
}
